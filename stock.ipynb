{
 "cells": [
  {
   "cell_type": "code",
   "execution_count": 1,
   "metadata": {},
   "outputs": [
    {
     "name": "stdout",
     "output_type": "stream",
     "text": [
      "1.2.50\n"
     ]
    }
   ],
   "source": [
    "import tushare as ts\n",
    "import threading\n",
    "print(ts.__version__)"
   ]
  },
  {
   "cell_type": "code",
   "execution_count": 2,
   "metadata": {},
   "outputs": [
    {
     "name": "stdout",
     "output_type": "stream",
     "text": [
      "choose the ban kuai: 500\n",
      "500\n"
     ]
    }
   ],
   "source": [
    "while True:\n",
    "    choose = input('choose the ban kuai: ')\n",
    "    if choose=='all':\n",
    "\n",
    "    #获取所有#\n",
    "\n",
    "        stock_info = ts.get_stock_basics()\n",
    "        stocks = stock_info.index.tolist()\n",
    "        print(len(stocks))\n",
    "        break;\n",
    "\n",
    "    elif choose=='300':\n",
    "    #获取沪深300#\n",
    "        stocks = []\n",
    "        stock_info = ts.get_hs300s()\n",
    "        for i in stock_info['code']:\n",
    "            stocks.append(i)\n",
    "        print(len(stocks))\n",
    "        break\n",
    "    elif choose=='500':\n",
    "        #获取中证500#\n",
    "        stocks = []\n",
    "        stock_info = ts.get_zz500s()\n",
    "        for i in stock_info['code']:\n",
    "            stocks.append(i)\n",
    "        print(len(stocks))\n",
    "        break\n",
    "    else:\n",
    "        print('you input wrong!!!')"
   ]
  },
  {
   "cell_type": "code",
   "execution_count": 3,
   "metadata": {},
   "outputs": [],
   "source": [
    "today = '2020-02-13'\n",
    "yesterday = '2020-02-12'\n",
    "stop = 2000\n",
    "ratio = 0.2\n",
    "lock = threading.Lock()\n",
    "count = 0\n",
    "Max_price = 25\n",
    "Min_price = 8\n",
    "def run(index_start,index_end):\n",
    "    index=index_start\n",
    "    global stocks_1\n",
    "    while index<=index_end:\n",
    "        data = ts.get_hist_data(stocks_0[index],start = today,end=today)\n",
    "        if data is not None:\n",
    "            if data.empty:\n",
    "                index = index+1\n",
    "                continue\n",
    "            try:\n",
    "                if data['close'].item()<=Max_price and data['close'].item()>=Min_price:\n",
    "                    lock.acquire()\n",
    "                    stocks_1.append(stocks_0[index])\n",
    "                    lock.release()\n",
    "            except:\n",
    "                    print('hahahahha '+stocks_0[index])\n",
    "        index = index+1\n",
    "    "
   ]
  },
  {
   "cell_type": "code",
   "execution_count": 4,
   "metadata": {},
   "outputs": [],
   "source": [
    "#排除暂时科创  创业板块\n",
    "stocks_0 = []\n",
    "for i in stocks:\n",
    "    if i.startswith('300') or i.startswith('688'):\n",
    "        continue\n",
    "    stocks_0.append(i)"
   ]
  },
  {
   "cell_type": "code",
   "execution_count": 5,
   "metadata": {},
   "outputs": [
    {
     "name": "stdout",
     "output_type": "stream",
     "text": [
      "length is 460\n",
      "finish!!!!\n"
     ]
    },
    {
     "data": {
      "text/plain": [
       "\"\\nfor i in stocks_0:\\n    if count == stop:\\n        break\\n    data = ts.get_hist_data(i,start = today)\\n    if data is not None:\\n        print(i)\\n        if data['close'].item()<=Max_price and data['close'].item()>=Min_price:\\n            print(i)\\n            stocks_1.append(i)\\n            count = count + 1\\n\""
      ]
     },
     "execution_count": 5,
     "metadata": {},
     "output_type": "execute_result"
    }
   ],
   "source": [
    "#排除股票价格过高 过低\n",
    "stocks_1 = []\n",
    "print('length is '+str(int(len(stocks_0))))\n",
    "\n",
    "t1 = threading.Thread(target=run,args=(0,int(len(stocks_0)/4)))\n",
    "t2 = threading.Thread(target=run,args=(int(len(stocks_0)/4)+1,2*int(len(stocks_0)/4)))\n",
    "t3 = threading.Thread(target=run,args=(2*int(len(stocks_0)/4)+1,3*int(len(stocks_0)/4)))\n",
    "t4 = threading.Thread(target=run,args=(3*int(len(stocks_0)/4)+1,int(len(stocks_0))-1))\n",
    "t1.start()\n",
    "t2.start()\n",
    "t3.start()\n",
    "t4.start()\n",
    "t1.join()\n",
    "t2.join()\n",
    "t3.join()\n",
    "t4.join()\n",
    "print('finish!!!!')\n",
    "\n",
    "'''\n",
    "for i in stocks_0:\n",
    "    if count == stop:\n",
    "        break\n",
    "    data = ts.get_hist_data(i,start = today)\n",
    "    if data is not None:\n",
    "        print(i)\n",
    "        if data['close'].item()<=Max_price and data['close'].item()>=Min_price:\n",
    "            print(i)\n",
    "            stocks_1.append(i)\n",
    "            count = count + 1\n",
    "'''"
   ]
  },
  {
   "cell_type": "code",
   "execution_count": 6,
   "metadata": {},
   "outputs": [
    {
     "name": "stdout",
     "output_type": "stream",
     "text": [
      "length is 175\n",
      "finish!!!!\n"
     ]
    }
   ],
   "source": [
    "#排除成交量增量较少的股票 排除上市一天股票\n",
    "print('length is '+str(int(len(stocks_1))))\n",
    "stocks_2 = []\n",
    "for i in stocks_1:\n",
    "    data_yes = ts.get_hist_data(i,start=yesterday,end=today)\n",
    "    if len(data_yes)>1:\n",
    "        if ((data_yes['volume'][0]-data_yes['volume'][1])/data_yes['volume'][1])>ratio:\n",
    "            stocks_2.append(i)\n",
    "print('finish!!!!')"
   ]
  },
  {
   "cell_type": "code",
   "execution_count": 7,
   "metadata": {},
   "outputs": [
    {
     "name": "stdout",
     "output_type": "stream",
     "text": [
      "length is 49\n",
      "finish!!!!\n"
     ]
    }
   ],
   "source": [
    "#找到ma5 ma10 ma20均增长的\n",
    "print('length is '+str(int(len(stocks_2))))\n",
    "stocks_3 = []\n",
    "for i in stocks_2:\n",
    "    data_yes = ts.get_hist_data(i,start=yesterday,end=today)\n",
    "    if data_yes['ma5'][0]>=data_yes['ma5'][1] and data_yes['ma10'][0]>=data_yes['ma10'][1] and data_yes['ma20'][0]>=data_yes['ma20'][1]:\n",
    "        stocks_3.append(i)\n",
    "print('finish!!!!')"
   ]
  },
  {
   "cell_type": "code",
   "execution_count": 8,
   "metadata": {},
   "outputs": [
    {
     "name": "stdout",
     "output_type": "stream",
     "text": [
      "length is 12\n",
      "['002212', '600862', '600171', '600216', '000156', '002373', '600460', '000826', '601865', '600549', '002672', '600598']\n"
     ]
    }
   ],
   "source": [
    "print('length is '+str(len(stocks_3)))\n",
    "print(stocks_3)"
   ]
  },
  {
   "cell_type": "code",
   "execution_count": null,
   "metadata": {},
   "outputs": [],
   "source": []
  }
 ],
 "metadata": {
  "kernelspec": {
   "display_name": "Python 3",
   "language": "python",
   "name": "python3"
  },
  "language_info": {
   "codemirror_mode": {
    "name": "ipython",
    "version": 3
   },
   "file_extension": ".py",
   "mimetype": "text/x-python",
   "name": "python",
   "nbconvert_exporter": "python",
   "pygments_lexer": "ipython3",
   "version": "3.6.4"
  }
 },
 "nbformat": 4,
 "nbformat_minor": 2
}
